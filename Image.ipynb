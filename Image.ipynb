{
 "cells": [
  {
   "cell_type": "code",
   "execution_count": 3,
   "id": "b193b666-0718-422f-bb4a-49d2516802d4",
   "metadata": {},
   "outputs": [
    {
     "name": "stdout",
     "output_type": "stream",
     "text": [
      "Requirement already satisfied: opencv-python in c:\\users\\acer\\anaconda3\\lib\\site-packages (4.10.0.84)\n",
      "Requirement already satisfied: numpy>=1.21.2 in c:\\users\\acer\\anaconda3\\lib\\site-packages (from opencv-python) (1.26.4)\n"
     ]
    }
   ],
   "source": [
    "!pip install opencv-python"
   ]
  },
  {
   "cell_type": "code",
   "execution_count": 1,
   "id": "bb828cae-948a-4126-b78f-29059499ed41",
   "metadata": {},
   "outputs": [],
   "source": [
    "import cv2"
   ]
  },
  {
   "cell_type": "markdown",
   "id": "f34b1254-76d1-4a1f-8ce8-c4388ff3d6f3",
   "metadata": {},
   "source": [
    "# [Image]"
   ]
  },
  {
   "cell_type": "markdown",
   "id": "c257b987-162d-4176-96a2-df8be5f2d679",
   "metadata": {},
   "source": [
    "## * read the image"
   ]
  },
  {
   "cell_type": "code",
   "execution_count": 3,
   "id": "aacc81c9-b3ea-4d8a-8bdf-144b45c3b572",
   "metadata": {},
   "outputs": [],
   "source": [
    "img1 = cv2.imread('body.jpg')"
   ]
  },
  {
   "cell_type": "markdown",
   "id": "0ebcb55e-30ec-4fe5-8d32-fd73f7ad84c2",
   "metadata": {},
   "source": [
    "## * show the img"
   ]
  },
  {
   "cell_type": "code",
   "execution_count": 5,
   "id": "9d5ad95e-009b-4c92-8343-8c1852361470",
   "metadata": {},
   "outputs": [],
   "source": [
    "cv2.imshow(\"image1\", img1)\n",
    "cv2.waitKey(0)\n",
    "cv2.destroyAllWindows()"
   ]
  },
  {
   "cell_type": "markdown",
   "id": "0c69581d-1862-413a-9a9b-002d4aee28f9",
   "metadata": {},
   "source": [
    "## * resize img "
   ]
  },
  {
   "cell_type": "code",
   "execution_count": 7,
   "id": "eaab8674-823f-4ff8-a30b-3f8507735ae9",
   "metadata": {},
   "outputs": [],
   "source": [
    "img2 = cv2.resize(img1, (400,400))"
   ]
  },
  {
   "cell_type": "code",
   "execution_count": 9,
   "id": "f2fbfde1-ab79-4c45-9ea4-8bb21dd9fc52",
   "metadata": {},
   "outputs": [],
   "source": [
    "cv2.imshow(\"image2\", img2)\n",
    "cv2.waitKey(0)\n",
    "cv2.destroyAllWindows()"
   ]
  },
  {
   "cell_type": "markdown",
   "id": "f4c22193-31ab-4a75-8bf9-d6894e28b12d",
   "metadata": {},
   "source": [
    "## * convert color(RBG) to gray img"
   ]
  },
  {
   "cell_type": "code",
   "execution_count": 11,
   "id": "02cae0e9-26a0-428f-8a74-3781c42a1d3a",
   "metadata": {},
   "outputs": [],
   "source": [
    "gray_img = cv2.cvtColor(img2, cv2.COLOR_BGR2GRAY)"
   ]
  },
  {
   "cell_type": "code",
   "execution_count": 13,
   "id": "e692b3cf-5391-461a-b0a1-bcef24e7858c",
   "metadata": {},
   "outputs": [],
   "source": [
    "cv2.imshow(\"img3\", gray_img)\n",
    "cv2.waitKey(0)\n",
    "cv2.destroyAllWindows()"
   ]
  },
  {
   "cell_type": "markdown",
   "id": "e4ce021d-573a-46d5-a7a5-ee495c25c488",
   "metadata": {},
   "source": [
    "## * convert color(RBG) to HSV img"
   ]
  },
  {
   "cell_type": "code",
   "execution_count": 15,
   "id": "87a72696-0964-4023-b353-acf456603557",
   "metadata": {},
   "outputs": [],
   "source": [
    "hsv_img = cv2.cvtColor(img2, cv2.COLOR_BGR2HSV)"
   ]
  },
  {
   "cell_type": "code",
   "execution_count": 17,
   "id": "5fd103d3-3d19-4bb1-83f9-163b95334d11",
   "metadata": {},
   "outputs": [],
   "source": [
    "cv2.imshow(\"img3\", hsv_img)\n",
    "cv2.waitKey(0)\n",
    "cv2.destroyAllWindows()"
   ]
  },
  {
   "cell_type": "markdown",
   "id": "8f836ca3-fec0-4eef-b739-2f039b9b133a",
   "metadata": {},
   "source": [
    "## * edge detection "
   ]
  },
  {
   "cell_type": "code",
   "execution_count": 21,
   "id": "243f2a59-d78f-4187-9e7a-9c90159cab31",
   "metadata": {},
   "outputs": [],
   "source": [
    "canny_img = cv2.Canny(gray_img, 200,200)"
   ]
  },
  {
   "cell_type": "code",
   "execution_count": 26,
   "id": "3092b9db-7e1c-49b3-9680-52ea70d676fa",
   "metadata": {},
   "outputs": [],
   "source": [
    "cv2.imshow(\"img3\", canny_img)\n",
    "cv2.waitKey(0)\n",
    "cv2.destroyAllWindows()"
   ]
  },
  {
   "cell_type": "markdown",
   "id": "004efbe9-616d-47c7-b7ac-fc0acb7be986",
   "metadata": {},
   "source": [
    "## * erosion "
   ]
  },
  {
   "cell_type": "code",
   "execution_count": 33,
   "id": "875f58c6-8cba-43c5-9ca2-121d713600b7",
   "metadata": {},
   "outputs": [],
   "source": [
    "import numpy as np \n",
    "kernal = np.ones((1,1) ,np.uint8)"
   ]
  },
  {
   "cell_type": "code",
   "execution_count": 59,
   "id": "4eefbed5-96eb-47d1-a9a8-3ed6b0afaa3e",
   "metadata": {},
   "outputs": [],
   "source": [
    "erode_img = cv2.erode(canny_img , kernal, iterations=5)"
   ]
  },
  {
   "cell_type": "code",
   "execution_count": 61,
   "id": "85889418-9be1-473f-8f39-94d1ef5d3ba7",
   "metadata": {},
   "outputs": [],
   "source": [
    "cv2.imshow(\"img3\", erode_img)\n",
    "cv2.waitKey(0)\n",
    "cv2.destroyAllWindows()"
   ]
  },
  {
   "cell_type": "markdown",
   "id": "975d25d4-f8a3-45cd-bbce-b27b35c2014c",
   "metadata": {},
   "source": [
    "## * dilation"
   ]
  },
  {
   "cell_type": "code",
   "execution_count": 55,
   "id": "e09b9b4b-3686-4f6b-b7ec-e021c78d9516",
   "metadata": {},
   "outputs": [],
   "source": [
    "dil_img = cv2.dilate(canny_img , kernal, iterations=1)"
   ]
  },
  {
   "cell_type": "code",
   "execution_count": 57,
   "id": "39c4afd7-a617-4426-9fc7-2c386354197f",
   "metadata": {},
   "outputs": [],
   "source": [
    "cv2.imshow(\"img3\", dil_img)\n",
    "cv2.waitKey(0)\n",
    "cv2.destroyAllWindows()"
   ]
  },
  {
   "cell_type": "code",
   "execution_count": null,
   "id": "26366c20-b3c3-4bbd-939d-b68a3102fa73",
   "metadata": {},
   "outputs": [],
   "source": []
  }
 ],
 "metadata": {
  "kernelspec": {
   "display_name": "Python 3 (ipykernel)",
   "language": "python",
   "name": "python3"
  },
  "language_info": {
   "codemirror_mode": {
    "name": "ipython",
    "version": 3
   },
   "file_extension": ".py",
   "mimetype": "text/x-python",
   "name": "python",
   "nbconvert_exporter": "python",
   "pygments_lexer": "ipython3",
   "version": "3.12.4"
  }
 },
 "nbformat": 4,
 "nbformat_minor": 5
}
