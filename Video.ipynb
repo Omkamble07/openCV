{
 "cells": [
  {
   "cell_type": "code",
   "execution_count": 1,
   "id": "cca26095-fc50-48eb-8609-c0bc6abb3c61",
   "metadata": {},
   "outputs": [],
   "source": [
    "import cv2"
   ]
  },
  {
   "cell_type": "markdown",
   "id": "470c7c10-58cb-48a3-820b-c21c5dcf20ae",
   "metadata": {},
   "source": [
    "## * read video"
   ]
  },
  {
   "cell_type": "code",
   "execution_count": 4,
   "id": "3b28231f-b7fe-4ad6-a9df-69129b17085c",
   "metadata": {},
   "outputs": [],
   "source": [
    "demo = cv2.VideoCapture('video.mp4')"
   ]
  },
  {
   "cell_type": "markdown",
   "id": "97dea1a9-2522-4f80-bab9-7e8ed5854ff9",
   "metadata": {},
   "source": [
    "## * show video"
   ]
  },
  {
   "cell_type": "code",
   "execution_count": 7,
   "id": "3852c29a-497c-41be-aec8-226bef348ab2",
   "metadata": {},
   "outputs": [],
   "source": [
    "while True:\n",
    "    try:\n",
    "        result, frame = demo.read()\n",
    "        cv2.imshow(\"video1\", frame)\n",
    "\n",
    "    except: \n",
    "        pass\n",
    "\n",
    "    if cv2.waitKey(1) & 0xff==ord('q'):\n",
    "        break\n",
    "\n",
    "cv2.destroyAllWindows()"
   ]
  },
  {
   "cell_type": "markdown",
   "id": "d402cbe0-9f2f-4fc2-b3a1-6b0e2745f742",
   "metadata": {},
   "source": [
    "## * camera access"
   ]
  },
  {
   "cell_type": "code",
   "execution_count": 9,
   "id": "d6445dad-21a4-446a-b746-68c483f11b4f",
   "metadata": {},
   "outputs": [],
   "source": [
    "vid = cv2.VideoCapture(0)\n"
   ]
  },
  {
   "cell_type": "code",
   "execution_count": 15,
   "id": "b5331534-98c4-4ca6-bebb-0237b1d7f20c",
   "metadata": {},
   "outputs": [],
   "source": [
    "while True:\n",
    "    try:\n",
    "        result, frame = vid.read()\n",
    "        # frame = cv2.cvtColor(frame, cv2.COLOR_BGR2GRAY)\n",
    "        cv2.imshow(\"video2\", frame)\n",
    "\n",
    "    except:\n",
    "        pass\n",
    "\n",
    "    if cv2.waitKey(1) & 0xff==ord('o'):\n",
    "        break\n",
    "\n",
    "cv2.destroyAllWindows()"
   ]
  },
  {
   "cell_type": "code",
   "execution_count": null,
   "id": "750f5829-decf-4fd3-9443-3850077ae518",
   "metadata": {},
   "outputs": [],
   "source": []
  }
 ],
 "metadata": {
  "kernelspec": {
   "display_name": "Python 3 (ipykernel)",
   "language": "python",
   "name": "python3"
  },
  "language_info": {
   "codemirror_mode": {
    "name": "ipython",
    "version": 3
   },
   "file_extension": ".py",
   "mimetype": "text/x-python",
   "name": "python",
   "nbconvert_exporter": "python",
   "pygments_lexer": "ipython3",
   "version": "3.12.4"
  }
 },
 "nbformat": 4,
 "nbformat_minor": 5
}
